{
  "nbformat": 4,
  "nbformat_minor": 0,
  "metadata": {
    "colab": {
      "provenance": [],
      "authorship_tag": "ABX9TyNXMUTd89N/U3GBF7m0RPRd",
      "include_colab_link": true
    },
    "kernelspec": {
      "name": "python3",
      "display_name": "Python 3"
    },
    "language_info": {
      "name": "python"
    }
  },
  "cells": [
    {
      "cell_type": "markdown",
      "metadata": {
        "id": "view-in-github",
        "colab_type": "text"
      },
      "source": [
        "<a href=\"https://colab.research.google.com/github/AnjaneyaSBV/11239A079_DAA_LAB/blob/main/11239A079_EXP4_FRACTIONALKNAPSACKPROBLEMUSINGGREEDYMETHOD.ipynb\" target=\"_parent\"><img src=\"https://colab.research.google.com/assets/colab-badge.svg\" alt=\"Open In Colab\"/></a>"
      ]
    },
    {
      "cell_type": "code",
      "execution_count": 1,
      "metadata": {
        "colab": {
          "base_uri": "https://localhost:8080/"
        },
        "id": "GV6JTU62glel",
        "outputId": "11422e61-e399-4f1a-a58c-1f9323b24319"
      },
      "outputs": [
        {
          "output_type": "stream",
          "name": "stdout",
          "text": [
            "Maximum value in the knapsack: 240.0\n",
            "Items in the knapsack (item, fraction):\n",
            "  (60, 10), Fraction: 1.0\n",
            "  (100, 20), Fraction: 1.0\n",
            "  (120, 30), Fraction: 0.6666666666666666\n"
          ]
        }
      ],
      "source": [
        "def fractional_knapsack(capacity, items):\n",
        "    value_per_weight = []\n",
        "    for i, (value, weight) in enumerate(items):\n",
        "        if weight > 0:\n",
        "            ratio = value / weight\n",
        "            value_per_weight.append((ratio, i))\n",
        "        else:\n",
        "            value_per_weight.append((0, i))\n",
        "    value_per_weight.sort(key=lambda x: x[0], reverse=True)\n",
        "\n",
        "    total_value = 0\n",
        "    knapsack_contents = []\n",
        "    remaining_capacity = capacity\n",
        "\n",
        "    for ratio, original_index in value_per_weight:\n",
        "        value, weight = items[original_index]\n",
        "\n",
        "        if remaining_capacity == 0:\n",
        "            break\n",
        "\n",
        "        if weight <= remaining_capacity:\n",
        "            knapsack_contents.append((items[original_index], 1.0))\n",
        "            total_value += value\n",
        "            remaining_capacity -= weight\n",
        "        else:\n",
        "            fraction = remaining_capacity / weight\n",
        "            knapsack_contents.append((items[original_index], fraction))\n",
        "            total_value += value * fraction\n",
        "            remaining_capacity = 0\n",
        "            break\n",
        "\n",
        "    return total_value, knapsack_contents\n",
        "\n",
        "if __name__ == \"__main__\":\n",
        "    items = [(60, 10), (100, 20), (120, 30)]\n",
        "    knapsack_capacity = 50\n",
        "\n",
        "    max_value, contents = fractional_knapsack(knapsack_capacity, items)\n",
        "\n",
        "    print(\"Maximum value in the knapsack:\", max_value)\n",
        "    print(\"Items in the knapsack (item, fraction):\")\n",
        "    for item, fraction in contents:\n",
        "        print(f\"  ({item[0]}, {item[1]}), Fraction: {fraction}\")"
      ]
    }
  ]
}