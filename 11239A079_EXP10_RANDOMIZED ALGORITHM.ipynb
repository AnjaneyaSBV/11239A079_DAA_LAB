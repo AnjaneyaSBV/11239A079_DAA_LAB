{
  "nbformat": 4,
  "nbformat_minor": 0,
  "metadata": {
    "colab": {
      "provenance": [],
      "authorship_tag": "ABX9TyP4JwB0Uwo2n8GHIX5DyVKn",
      "include_colab_link": true
    },
    "kernelspec": {
      "name": "python3",
      "display_name": "Python 3"
    },
    "language_info": {
      "name": "python"
    }
  },
  "cells": [
    {
      "cell_type": "markdown",
      "metadata": {
        "id": "view-in-github",
        "colab_type": "text"
      },
      "source": [
        "<a href=\"https://colab.research.google.com/github/AnjaneyaSBV/11239A079_DAA_LAB/blob/main/11239A079_EXP10_RANDOMIZED%20ALGORITHM.ipynb\" target=\"_parent\"><img src=\"https://colab.research.google.com/assets/colab-badge.svg\" alt=\"Open In Colab\"/></a>"
      ]
    },
    {
      "cell_type": "code",
      "execution_count": 1,
      "metadata": {
        "colab": {
          "base_uri": "https://localhost:8080/"
        },
        "id": "22FaA_ytnaE0",
        "outputId": "4cc198bd-66e7-4914-ca31-27125f8c432f"
      },
      "outputs": [
        {
          "output_type": "stream",
          "name": "stdout",
          "text": [
            "Original array: [10, 7, 8, 9, 1, 5]\n",
            "Sorted array:   [1, 5, 7, 8, 9, 10]\n"
          ]
        }
      ],
      "source": [
        "import random\n",
        "def randomized_partition(arr, low, high):\n",
        "    pivot_index = random.randint(low, high)\n",
        "    arr[pivot_index], arr[high] = arr[high], arr[pivot_index]\n",
        "    pivot = arr[high]\n",
        "\n",
        "    i = low - 1\n",
        "    for j in range(low, high):\n",
        "        if arr[j] <= pivot:\n",
        "            i += 1\n",
        "            arr[i], arr[j] = arr[j], arr[i]\n",
        "\n",
        "    arr[i+1], arr[high] = arr[high], arr[i+1]\n",
        "    return i + 1\n",
        "\n",
        "def randomized_quicksort(arr, low, high):\n",
        "    if low < high:\n",
        "        pi = randomized_partition(arr, low, high)\n",
        "        randomized_quicksort(arr, low, pi - 1)\n",
        "        randomized_quicksort(arr, pi + 1, high)\n",
        "\n",
        "if __name__ == \"__main__\":\n",
        "    arr = [10, 7, 8, 9, 1, 5]\n",
        "    print(\"Original array:\", arr)\n",
        "    randomized_quicksort(arr, 0, len(arr) - 1)\n",
        "    print(\"Sorted array:  \", arr)"
      ]
    }
  ]
}