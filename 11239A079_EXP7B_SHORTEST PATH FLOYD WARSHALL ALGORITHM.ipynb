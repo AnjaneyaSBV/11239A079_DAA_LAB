{
  "nbformat": 4,
  "nbformat_minor": 0,
  "metadata": {
    "colab": {
      "provenance": [],
      "authorship_tag": "ABX9TyNvIlILjMIEekxwk52QZW9T",
      "include_colab_link": true
    },
    "kernelspec": {
      "name": "python3",
      "display_name": "Python 3"
    },
    "language_info": {
      "name": "python"
    }
  },
  "cells": [
    {
      "cell_type": "markdown",
      "metadata": {
        "id": "view-in-github",
        "colab_type": "text"
      },
      "source": [
        "<a href=\"https://colab.research.google.com/github/AnjaneyaSBV/11239A079_DAA_LAB/blob/main/11239A079_EXP7B_SHORTEST%20PATH%20FLOYD%20WARSHALL%20ALGORITHM.ipynb\" target=\"_parent\"><img src=\"https://colab.research.google.com/assets/colab-badge.svg\" alt=\"Open In Colab\"/></a>"
      ]
    },
    {
      "cell_type": "code",
      "execution_count": 1,
      "metadata": {
        "colab": {
          "base_uri": "https://localhost:8080/"
        },
        "id": "M3Y0YAHclS6U",
        "outputId": "b9d451c9-af31-4e66-8eeb-368de6702f71"
      },
      "outputs": [
        {
          "output_type": "stream",
          "name": "stdout",
          "text": [
            "\n",
            "Floyd-Warshall Algorithm:\n",
            "Shortest distances between all pairs of vertices:\n",
            "[0, 3, 5, 6]\n",
            "[5, 0, 2, 3]\n",
            "[3, 6, 0, 1]\n",
            "[2, 5, 7, 0]\n"
          ]
        }
      ],
      "source": [
        "import sys\n",
        "\n",
        "def floyd_warshall(graph):\n",
        "    num_vertices = len(graph)\n",
        "    dist = [[sys.maxsize] * num_vertices for _ in range(num_vertices)]\n",
        "    for i in range(num_vertices):\n",
        "        for j in range(num_vertices):\n",
        "            if i == j:\n",
        "                dist[i][j] = 0\n",
        "            elif graph[i][j] != 0:\n",
        "                dist[i][j] = graph[i][j]\n",
        "\n",
        "    for k in range(num_vertices):\n",
        "        for i in range(num_vertices):\n",
        "            for j in range(num_vertices):\n",
        "                dist[i][j] = min(dist[i][j], dist[i][k] + dist[k][j])\n",
        "\n",
        "    return dist\n",
        "graph = [\n",
        "    [0, 3, 0, 7],\n",
        "    [8, 0, 2, 0],\n",
        "    [5, 0, 0, 1],\n",
        "    [2, 0, 0, 0]\n",
        "]\n",
        "print(\"\\nFloyd-Warshall Algorithm:\")\n",
        "print(\"Shortest distances between all pairs of vertices:\")\n",
        "result = floyd_warshall(graph)\n",
        "for row in result:\n",
        "    print(row)"
      ]
    }
  ]
}