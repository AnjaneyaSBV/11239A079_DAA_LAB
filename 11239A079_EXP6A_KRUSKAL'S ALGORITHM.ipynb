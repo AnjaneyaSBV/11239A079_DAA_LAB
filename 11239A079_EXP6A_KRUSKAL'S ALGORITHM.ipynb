{
  "nbformat": 4,
  "nbformat_minor": 0,
  "metadata": {
    "colab": {
      "provenance": [],
      "authorship_tag": "ABX9TyPmelvesgMw33O4zhSuR8g1",
      "include_colab_link": true
    },
    "kernelspec": {
      "name": "python3",
      "display_name": "Python 3"
    },
    "language_info": {
      "name": "python"
    }
  },
  "cells": [
    {
      "cell_type": "markdown",
      "metadata": {
        "id": "view-in-github",
        "colab_type": "text"
      },
      "source": [
        "<a href=\"https://colab.research.google.com/github/AnjaneyaSBV/11239A079_DAA_LAB/blob/main/11239A079_EXP6A_KRUSKAL'S%20ALGORITHM.ipynb\" target=\"_parent\"><img src=\"https://colab.research.google.com/assets/colab-badge.svg\" alt=\"Open In Colab\"/></a>"
      ]
    },
    {
      "cell_type": "code",
      "execution_count": 1,
      "metadata": {
        "colab": {
          "base_uri": "https://localhost:8080/"
        },
        "id": "LVEo1UaAippw",
        "outputId": "42f059f9-336b-401c-e4f6-463088dfcc03"
      },
      "outputs": [
        {
          "output_type": "stream",
          "name": "stdout",
          "text": [
            "Edges in the Minimum Spanning Tree (Kruskal's):\n",
            "2 -- 3: 4\n",
            "0 -- 3: 5\n",
            "0 -- 1: 10\n",
            "Total weight of MST: 19\n"
          ]
        }
      ],
      "source": [
        "class Graph:\n",
        "    def __init__(self, vertices):\n",
        "        self.V = vertices\n",
        "        self.edges = []\n",
        "\n",
        "    def add_edge(self, u, v, w):\n",
        "        self.edges.append((u, v, w))\n",
        "\n",
        "    def find_set(self, parent, i):\n",
        "        if parent[i] == i:\n",
        "            return i\n",
        "        return self.find_set(parent, parent[i])\n",
        "\n",
        "    def union_sets(self, parent, rank, x, y):\n",
        "        rootx = self.find_set(parent, x)\n",
        "        rooty = self.find_set(parent, y)\n",
        "\n",
        "        if rank[rootx] < rank[rooty]:\n",
        "            parent[rootx] = rooty\n",
        "        elif rank[rootx] > rank[rooty]:\n",
        "            parent[rooty] = rootx\n",
        "        else:\n",
        "            parent[rooty] = rootx\n",
        "            rank[rootx] += 1\n",
        "\n",
        "    def kruskal_mst(self):\n",
        "        result = []\n",
        "        self.edges.sort(key=lambda item: item[2])\n",
        "        parent = list(range(self.V))\n",
        "        rank = [0] * self.V\n",
        "        edge_count = 0\n",
        "        i = 0\n",
        "\n",
        "        while edge_count < self.V - 1 and i < len(self.edges):\n",
        "            u, v, w = self.edges[i]\n",
        "            i += 1\n",
        "            root_u = self.find_set(parent, u)\n",
        "            root_v = self.find_set(parent, v)\n",
        "\n",
        "            if root_u != root_v:\n",
        "                result.append((u, v, w))\n",
        "                self.union_sets(parent, rank, root_u, root_v)\n",
        "                edge_count += 1\n",
        "\n",
        "        return result\n",
        "\n",
        "if __name__ == \"__main__\":\n",
        "    g = Graph(4)\n",
        "    g.add_edge(0, 1, 10)\n",
        "    g.add_edge(0, 2, 6)\n",
        "    g.add_edge(0, 3, 5)\n",
        "    g.add_edge(1, 3, 15)\n",
        "    g.add_edge(2, 3, 4)\n",
        "\n",
        "    mst_edges = g.kruskal_mst()\n",
        "    print(\"Edges in the Minimum Spanning Tree (Kruskal's):\")\n",
        "    total_weight = 0\n",
        "    for u, v, w in mst_edges:\n",
        "        print(f\"{u} -- {v}: {w}\")\n",
        "        total_weight += w\n",
        "    print(\"Total weight of MST:\", total_weight)"
      ]
    }
  ]
}