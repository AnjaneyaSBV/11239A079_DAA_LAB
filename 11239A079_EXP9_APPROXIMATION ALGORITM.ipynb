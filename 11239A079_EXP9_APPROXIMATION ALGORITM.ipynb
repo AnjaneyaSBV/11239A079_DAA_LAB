{
  "nbformat": 4,
  "nbformat_minor": 0,
  "metadata": {
    "colab": {
      "provenance": [],
      "authorship_tag": "ABX9TyP2TpM3PWGkwzMKXCe0WjIW",
      "include_colab_link": true
    },
    "kernelspec": {
      "name": "python3",
      "display_name": "Python 3"
    },
    "language_info": {
      "name": "python"
    }
  },
  "cells": [
    {
      "cell_type": "markdown",
      "metadata": {
        "id": "view-in-github",
        "colab_type": "text"
      },
      "source": [
        "<a href=\"https://colab.research.google.com/github/AnjaneyaSBV/11239A079_DAA_LAB/blob/main/11239A079_EXP9_APPROXIMATION%20ALGORITM.ipynb\" target=\"_parent\"><img src=\"https://colab.research.google.com/assets/colab-badge.svg\" alt=\"Open In Colab\"/></a>"
      ]
    },
    {
      "cell_type": "code",
      "execution_count": 1,
      "metadata": {
        "colab": {
          "base_uri": "https://localhost:8080/"
        },
        "id": "rIpmdMpemrAJ",
        "outputId": "ebfe152c-5278-4143-ea0c-cbe492bfaefe"
      },
      "outputs": [
        {
          "output_type": "stream",
          "name": "stdout",
          "text": [
            "Approximate Vertex Cover: {0, 1, 2, 3}\n"
          ]
        }
      ],
      "source": [
        "from collections import defaultdict\n",
        "\n",
        "class Graph:\n",
        "    def __init__(self):\n",
        "        self.graph = defaultdict(set)\n",
        "\n",
        "    def add_edge(self, u, v):\n",
        "        self.graph[u].add(v)\n",
        "        self.graph[v].add(u)\n",
        "\n",
        "    def approx_vertex_cover(self):\n",
        "        visited = set()\n",
        "        vertex_cover = set()\n",
        "\n",
        "        edges = {(u, v) for u in self.graph for v in self.graph[u] if u < v}\n",
        "\n",
        "        while edges:\n",
        "            u, v = edges.pop()\n",
        "            if u not in visited and v not in visited:\n",
        "                vertex_cover.add(u)\n",
        "                vertex_cover.add(v)\n",
        "                visited.add(u)\n",
        "                visited.add(v)\n",
        "                edges = {e for e in edges if u not in e and v not in e}\n",
        "\n",
        "        return vertex_cover\n",
        "\n",
        "if __name__ == \"__main__\":\n",
        "    g = Graph()\n",
        "    g.add_edge(0, 1)\n",
        "    g.add_edge(0, 2)\n",
        "    g.add_edge(1, 3)\n",
        "    g.add_edge(2, 3)\n",
        "    g.add_edge(3, 4)\n",
        "\n",
        "    cover = g.approx_vertex_cover()\n",
        "    print(\"Approximate Vertex Cover:\", cover)\n"
      ]
    }
  ]
}