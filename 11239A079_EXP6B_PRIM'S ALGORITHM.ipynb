{
  "nbformat": 4,
  "nbformat_minor": 0,
  "metadata": {
    "colab": {
      "provenance": [],
      "authorship_tag": "ABX9TyPk3LZ3qOdW0UcfltLCHTwp",
      "include_colab_link": true
    },
    "kernelspec": {
      "name": "python3",
      "display_name": "Python 3"
    },
    "language_info": {
      "name": "python"
    }
  },
  "cells": [
    {
      "cell_type": "markdown",
      "metadata": {
        "id": "view-in-github",
        "colab_type": "text"
      },
      "source": [
        "<a href=\"https://colab.research.google.com/github/AnjaneyaSBV/11239A079_DAA_LAB/blob/main/11239A079_EXP6B_PRIM'S%20ALGORITHM.ipynb\" target=\"_parent\"><img src=\"https://colab.research.google.com/assets/colab-badge.svg\" alt=\"Open In Colab\"/></a>"
      ]
    },
    {
      "cell_type": "code",
      "execution_count": 1,
      "metadata": {
        "colab": {
          "base_uri": "https://localhost:8080/"
        },
        "id": "8WLgbyexjgZ0",
        "outputId": "6e5cdd15-0c4b-494d-b1c7-c2b36b342edd"
      },
      "outputs": [
        {
          "output_type": "stream",
          "name": "stdout",
          "text": [
            "Edges in the Minimum Spanning Tree (Prim's) starting from vertex 0:\n",
            "0 -- 3: 5\n",
            "3 -- 2: 4\n",
            "0 -- 1: 10\n",
            "Total weight of MST: 19\n"
          ]
        }
      ],
      "source": [
        "\n",
        "import heapq\n",
        "\n",
        "def prim_mst(graph, start_node):\n",
        "\n",
        "    mst_edges = []\n",
        "    visited = {start_node}\n",
        "    priority_queue = []\n",
        "\n",
        "    for neighbor, weight in graph.get(start_node, []):\n",
        "        heapq.heappush(priority_queue, (weight, start_node, neighbor))\n",
        "\n",
        "    while priority_queue:\n",
        "        weight, u, v = heapq.heappop(priority_queue)\n",
        "\n",
        "        if v not in visited:\n",
        "            visited.add(v)\n",
        "            mst_edges.append((u, v, weight))\n",
        "            for neighbor, new_weight in graph.get(v, []):\n",
        "                if neighbor not in visited:\n",
        "                    heapq.heappush(priority_queue, (new_weight, v, neighbor))\n",
        "\n",
        "    return mst_edges\n",
        "\n",
        "if __name__ == \"__main__\":\n",
        "    graph = {\n",
        "        0: [(1, 10), (2, 6), (3, 5)],\n",
        "        1: [(0, 10), (3, 15)],\n",
        "        2: [(0, 6), (3, 4)],\n",
        "        3: [(0, 5), (1, 15), (2, 4)]\n",
        "    }\n",
        "\n",
        "    start_vertex = 0\n",
        "    mst_result = prim_mst(graph, start_vertex)\n",
        "\n",
        "    print(f\"Edges in the Minimum Spanning Tree (Prim's) starting from vertex {start_vertex}:\")\n",
        "    total_weight = 0\n",
        "    for u, v, weight in mst_result:\n",
        "        print(f\"{u} -- {v}: {weight}\")\n",
        "        total_weight += weight\n",
        "    print(\"Total weight of MST:\", total_weight)"
      ]
    }
  ]
}