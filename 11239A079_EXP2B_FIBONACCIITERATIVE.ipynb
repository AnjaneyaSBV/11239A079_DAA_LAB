{
  "nbformat": 4,
  "nbformat_minor": 0,
  "metadata": {
    "colab": {
      "provenance": [],
      "include_colab_link": true
    },
    "kernelspec": {
      "name": "python3",
      "display_name": "Python 3"
    },
    "language_info": {
      "name": "python"
    }
  },
  "cells": [
    {
      "cell_type": "markdown",
      "metadata": {
        "id": "view-in-github",
        "colab_type": "text"
      },
      "source": [
        "<a href=\"https://colab.research.google.com/github/AnjaneyaSBV/11239A079_DAA_LAB/blob/main/11239A079_EXP2B_FIBONACCIITERATIVE.ipynb\" target=\"_parent\"><img src=\"https://colab.research.google.com/assets/colab-badge.svg\" alt=\"Open In Colab\"/></a>"
      ]
    },
    {
      "cell_type": "code",
      "source": [
        "\n",
        "def fibonacci_iterative(n):\n",
        "\n",
        "  if n <= 1:\n",
        "    return n\n",
        "  else:\n",
        "    a, b = 0, 1\n",
        "    for _ in range(2, n + 1):\n",
        "      next_fib = a + b\n",
        "      a = b\n",
        "      b = next_fib\n",
        "    return b\n",
        "num = int(input(\"Enter a non-negative integer n: \"))\n",
        "\n",
        "if num < 0:\n",
        "  print(\"Please enter a non-negative integer.\")\n",
        "else:\n",
        "  result_iterative = fibonacci_iterative(num)\n",
        "  print(f\"The {num}th Fibonacci number (using iteration) is: {result_iterative}\")"
      ],
      "metadata": {
        "colab": {
          "base_uri": "https://localhost:8080/"
        },
        "id": "M3Hmmf42bsXt",
        "outputId": "0c853d3e-1ae5-4d5c-d1a7-3eb54422e2cf"
      },
      "execution_count": 2,
      "outputs": [
        {
          "output_type": "stream",
          "name": "stdout",
          "text": [
            "Enter a non-negative integer n: 7\n",
            "The 7th Fibonacci number (using iteration) is: 13\n"
          ]
        }
      ]
    }
  ]
}