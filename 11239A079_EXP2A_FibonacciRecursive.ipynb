{
  "nbformat": 4,
  "nbformat_minor": 0,
  "metadata": {
    "colab": {
      "provenance": [],
      "authorship_tag": "ABX9TyOH2o4abhJSr6LL3Uw4LbIU",
      "include_colab_link": true
    },
    "kernelspec": {
      "name": "python3",
      "display_name": "Python 3"
    },
    "language_info": {
      "name": "python"
    }
  },
  "cells": [
    {
      "cell_type": "markdown",
      "metadata": {
        "id": "view-in-github",
        "colab_type": "text"
      },
      "source": [
        "<a href=\"https://colab.research.google.com/github/AnjaneyaSBV/11239A079_DAA_LAB/blob/main/11239A079_EXP2A_FibonacciRecursive.ipynb\" target=\"_parent\"><img src=\"https://colab.research.google.com/assets/colab-badge.svg\" alt=\"Open In Colab\"/></a>"
      ]
    },
    {
      "cell_type": "code",
      "source": [
        "\n",
        "def fibonacci_recursive(n):\n",
        "\n",
        "  if n <= 1:\n",
        "    return n\n",
        "  else:\n",
        "    return fibonacci_recursive(n - 1) + fibonacci_recursive(n - 2)\n",
        "num = int(input(\"Enter a non-negative integer n: \"))\n",
        "\n",
        "if num < 0:\n",
        "  print(\"Please enter a non-negative integer.\")\n",
        "else:\n",
        "  result_recursive = fibonacci_recursive(num)\n",
        "  print(f\"The {num}th Fibonacci number (using recursion) is: {result_recursive}\")"
      ],
      "metadata": {
        "colab": {
          "base_uri": "https://localhost:8080/"
        },
        "id": "M3Hmmf42bsXt",
        "outputId": "b9627b53-6cfc-42db-ba91-34c4e3f3e30e"
      },
      "execution_count": 2,
      "outputs": [
        {
          "output_type": "stream",
          "name": "stdout",
          "text": [
            "Enter a non-negative integer n: 5\n",
            "The 5th Fibonacci number (using recursion) is: 5\n"
          ]
        }
      ]
    }
  ]
}