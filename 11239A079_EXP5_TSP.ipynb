{
  "nbformat": 4,
  "nbformat_minor": 0,
  "metadata": {
    "colab": {
      "provenance": [],
      "authorship_tag": "ABX9TyNEnjr5iIwQH/hwoMcw45fK",
      "include_colab_link": true
    },
    "kernelspec": {
      "name": "python3",
      "display_name": "Python 3"
    },
    "language_info": {
      "name": "python"
    }
  },
  "cells": [
    {
      "cell_type": "markdown",
      "metadata": {
        "id": "view-in-github",
        "colab_type": "text"
      },
      "source": [
        "<a href=\"https://colab.research.google.com/github/AnjaneyaSBV/11239A079_DAA_LAB/blob/main/11239A079_EXP5_TSP.ipynb\" target=\"_parent\"><img src=\"https://colab.research.google.com/assets/colab-badge.svg\" alt=\"Open In Colab\"/></a>"
      ]
    },
    {
      "cell_type": "code",
      "execution_count": 1,
      "metadata": {
        "colab": {
          "base_uri": "https://localhost:8080/"
        },
        "id": "TkdbaBHgh9UC",
        "outputId": "c1fffa82-e735-43d7-9f63-4a2587f690a6"
      },
      "outputs": [
        {
          "output_type": "stream",
          "name": "stdout",
          "text": [
            "Cities:\n",
            "City 0: (0, 0)\n",
            "City 1: (1, 5)\n",
            "City 2: (5, 2)\n",
            "City 3: (6, 7)\n",
            "City 4: (3, 1)\n",
            "\n",
            "--- Brute Force Solution ---\n",
            "Shortest distance: 20.981549471988238\n",
            "Optimal path (city indices): [0, 1, 3, 2, 4, 0]\n",
            "Time taken: 0.0003063678741455078 seconds\n"
          ]
        }
      ],
      "source": [
        "import itertools\n",
        "import time\n",
        "import math\n",
        "\n",
        "def calculate_distance(city1, city2):\n",
        "    return math.sqrt((city1[0] - city2[0])**2 + (city1[1] - city2[1])**2)\n",
        "\n",
        "def travelling_salesman_brute_force(cities):\n",
        "\n",
        "    num_cities = len(cities)\n",
        "    if num_cities <= 1:\n",
        "        return 0, list(range(num_cities))\n",
        "\n",
        "    min_distance = float('inf')\n",
        "    best_path = None\n",
        "\n",
        "    start_city_index = 0\n",
        "    other_cities_indices = list(range(1, num_cities))\n",
        "    permutations = itertools.permutations(other_cities_indices)\n",
        "\n",
        "    for path_permutation in permutations:\n",
        "        current_path = [start_city_index] + list(path_permutation) + [start_city_index]\n",
        "        current_distance = 0\n",
        "        for i in range(num_cities):\n",
        "            city1_index = current_path[i]\n",
        "            city2_index = current_path[i + 1]\n",
        "            current_distance += calculate_distance(cities[city1_index], cities[city2_index])\n",
        "\n",
        "        if current_distance < min_distance:\n",
        "            min_distance = current_distance\n",
        "            best_path = current_path\n",
        "\n",
        "    return min_distance, best_path\n",
        "\n",
        "\n",
        "if __name__ == \"__main__\":\n",
        "\n",
        "    cities = [\n",
        "        (0, 0),\n",
        "        (1, 5),\n",
        "        (5, 2),\n",
        "        (6, 7),\n",
        "        (3, 1),\n",
        "    ]\n",
        "\n",
        "    print(\"Cities:\")\n",
        "    for i, city in enumerate(cities):\n",
        "        print(f\"City {i}: {city}\")\n",
        "\n",
        "    start_time = time.time()\n",
        "    shortest_distance, optimal_path = travelling_salesman_brute_force(cities)\n",
        "    end_time = time.time()\n",
        "\n",
        "    print(\"\\n--- Brute Force Solution ---\")\n",
        "    print(\"Shortest distance:\", shortest_distance)\n",
        "    print(\"Optimal path (city indices):\", optimal_path)\n",
        "    print(\"Time taken:\", end_time - start_time, \"seconds\")"
      ]
    }
  ]
}