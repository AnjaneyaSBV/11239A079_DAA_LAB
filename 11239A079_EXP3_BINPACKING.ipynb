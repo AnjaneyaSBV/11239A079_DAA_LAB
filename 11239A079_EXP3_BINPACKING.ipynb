{
  "nbformat": 4,
  "nbformat_minor": 0,
  "metadata": {
    "colab": {
      "provenance": [],
      "authorship_tag": "ABX9TyMWoKR/1+MknMlmpiN6WT5i",
      "include_colab_link": true
    },
    "kernelspec": {
      "name": "python3",
      "display_name": "Python 3"
    },
    "language_info": {
      "name": "python"
    }
  },
  "cells": [
    {
      "cell_type": "markdown",
      "metadata": {
        "id": "view-in-github",
        "colab_type": "text"
      },
      "source": [
        "<a href=\"https://colab.research.google.com/github/AnjaneyaSBV/11239A079_DAA_LAB/blob/main/11239A079_EXP3_BINPACKING.ipynb\" target=\"_parent\"><img src=\"https://colab.research.google.com/assets/colab-badge.svg\" alt=\"Open In Colab\"/></a>"
      ]
    },
    {
      "cell_type": "code",
      "execution_count": 1,
      "metadata": {
        "colab": {
          "base_uri": "https://localhost:8080/"
        },
        "id": "vVBUfanKfscm",
        "outputId": "8dea1858-8a91-42e3-9803-8e7c41bfa6f5"
      },
      "outputs": [
        {
          "output_type": "stream",
          "name": "stdout",
          "text": [
            "Item sizes: [4, 8, 1, 4, 2, 9, 7, 3, 6, 2]\n",
            "Bin capacity: 10\n",
            "\n",
            "First Fit Bin Packing:\n",
            "Bin 1: [4, 1, 4] (Sum: 9)\n",
            "Bin 2: [8, 2] (Sum: 10)\n",
            "Bin 3: [9] (Sum: 9)\n",
            "Bin 4: [7, 3] (Sum: 10)\n",
            "Bin 5: [6, 2] (Sum: 8)\n",
            "Number of bins used (First Fit): 5\n",
            "\n",
            "Best Fit Bin Packing:\n",
            "Bin 1: [4, 4, 2] (Sum: 10)\n",
            "Bin 2: [8, 1] (Sum: 9)\n",
            "Bin 3: [9] (Sum: 9)\n",
            "Bin 4: [7, 3] (Sum: 10)\n",
            "Bin 5: [6, 2] (Sum: 8)\n",
            "Number of bins used (Best Fit): 5\n"
          ]
        }
      ],
      "source": [
        "def first_fit(items, bin_capacity):\n",
        "\n",
        "    bins = []\n",
        "    for item in items:\n",
        "        placed = False\n",
        "        for bin in bins:\n",
        "            if sum(bin) + item <= bin_capacity:\n",
        "                bin.append(item)\n",
        "                placed = True\n",
        "                break\n",
        "        if not placed:\n",
        "            new_bin = [item]\n",
        "            bins.append(new_bin)\n",
        "    return bins\n",
        "def best_fit(items, bin_capacity):\n",
        "    bins = []\n",
        "    for item in items:\n",
        "        best_bin_index = -1\n",
        "        min_remaining = bin_capacity + 1\n",
        "        for i, bin in enumerate(bins):\n",
        "            remaining = bin_capacity - sum(bin)\n",
        "            if remaining >= item and remaining < min_remaining:\n",
        "                min_remaining = remaining\n",
        "                best_bin_index = i\n",
        "\n",
        "        if best_bin_index != -1:\n",
        "            bins[best_bin_index].append(item)\n",
        "        else:\n",
        "            new_bin = [item]\n",
        "            bins.append(new_bin)\n",
        "    return bins\n",
        "\n",
        "if __name__ == \"__main__\":\n",
        "    item_sizes = [4, 8, 1, 4, 2, 9, 7, 3, 6, 2]\n",
        "    capacity = 10\n",
        "\n",
        "    print(\"Item sizes:\", item_sizes)\n",
        "    print(\"Bin capacity:\", capacity)\n",
        "\n",
        "    first_fit_bins = first_fit(item_sizes, capacity)\n",
        "    print(\"\\nFirst Fit Bin Packing:\")\n",
        "    for i, bin in enumerate(first_fit_bins):\n",
        "        print(f\"Bin {i+1}: {bin} (Sum: {sum(bin)})\")\n",
        "    print(f\"Number of bins used (First Fit): {len(first_fit_bins)}\")\n",
        "\n",
        "    best_fit_bins = best_fit(item_sizes, capacity)\n",
        "    print(\"\\nBest Fit Bin Packing:\")\n",
        "    for i, bin in enumerate(best_fit_bins):\n",
        "        print(f\"Bin {i+1}: {bin} (Sum: {sum(bin)})\")\n",
        "    print(f\"Number of bins used (Best Fit): {len(best_fit_bins)}\")"
      ]
    }
  ]
}